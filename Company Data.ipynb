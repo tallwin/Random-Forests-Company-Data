{
  "cells": [
    {
      "cell_type": "markdown",
      "metadata": {
        "id": "view-in-github",
        "colab_type": "text"
      },
      "source": [
        "<a href=\"https://colab.research.google.com/github/tallwin/Random-Forests-Company-Data/blob/main/Company%20Data.ipynb\" target=\"_parent\"><img src=\"https://colab.research.google.com/assets/colab-badge.svg\" alt=\"Open In Colab\"/></a>"
      ]
    },
    {
      "cell_type": "code",
      "execution_count": 1,
      "metadata": {
        "id": "cKmOEn4q1PbS"
      },
      "outputs": [],
      "source": [
        "import pandas as pd\n",
        "import numpy as np\n",
        "import seaborn as sns\n",
        "import matplotlib.pyplot as plt"
      ]
    },
    {
      "cell_type": "code",
      "execution_count": 2,
      "metadata": {
        "colab": {
          "base_uri": "https://localhost:8080/",
          "height": 423
        },
        "id": "PyvNfdzi1Pba",
        "outputId": "ade5dc9a-6bdd-4cf1-f247-7fded0ce2698"
      },
      "outputs": [
        {
          "output_type": "execute_result",
          "data": {
            "text/html": [
              "<div>\n",
              "<style scoped>\n",
              "    .dataframe tbody tr th:only-of-type {\n",
              "        vertical-align: middle;\n",
              "    }\n",
              "\n",
              "    .dataframe tbody tr th {\n",
              "        vertical-align: top;\n",
              "    }\n",
              "\n",
              "    .dataframe thead th {\n",
              "        text-align: right;\n",
              "    }\n",
              "</style>\n",
              "<table border=\"1\" class=\"dataframe\">\n",
              "  <thead>\n",
              "    <tr style=\"text-align: right;\">\n",
              "      <th></th>\n",
              "      <th>Sales</th>\n",
              "      <th>CompPrice</th>\n",
              "      <th>Income</th>\n",
              "      <th>Advertising</th>\n",
              "      <th>Population</th>\n",
              "      <th>Price</th>\n",
              "      <th>ShelveLoc</th>\n",
              "      <th>Age</th>\n",
              "      <th>Education</th>\n",
              "      <th>Urban</th>\n",
              "      <th>US</th>\n",
              "    </tr>\n",
              "  </thead>\n",
              "  <tbody>\n",
              "    <tr>\n",
              "      <th>0</th>\n",
              "      <td>9.50</td>\n",
              "      <td>138</td>\n",
              "      <td>73</td>\n",
              "      <td>11</td>\n",
              "      <td>276</td>\n",
              "      <td>120</td>\n",
              "      <td>Bad</td>\n",
              "      <td>42</td>\n",
              "      <td>17</td>\n",
              "      <td>Yes</td>\n",
              "      <td>Yes</td>\n",
              "    </tr>\n",
              "    <tr>\n",
              "      <th>1</th>\n",
              "      <td>11.22</td>\n",
              "      <td>111</td>\n",
              "      <td>48</td>\n",
              "      <td>16</td>\n",
              "      <td>260</td>\n",
              "      <td>83</td>\n",
              "      <td>Good</td>\n",
              "      <td>65</td>\n",
              "      <td>10</td>\n",
              "      <td>Yes</td>\n",
              "      <td>Yes</td>\n",
              "    </tr>\n",
              "    <tr>\n",
              "      <th>2</th>\n",
              "      <td>10.06</td>\n",
              "      <td>113</td>\n",
              "      <td>35</td>\n",
              "      <td>10</td>\n",
              "      <td>269</td>\n",
              "      <td>80</td>\n",
              "      <td>Medium</td>\n",
              "      <td>59</td>\n",
              "      <td>12</td>\n",
              "      <td>Yes</td>\n",
              "      <td>Yes</td>\n",
              "    </tr>\n",
              "    <tr>\n",
              "      <th>3</th>\n",
              "      <td>7.40</td>\n",
              "      <td>117</td>\n",
              "      <td>100</td>\n",
              "      <td>4</td>\n",
              "      <td>466</td>\n",
              "      <td>97</td>\n",
              "      <td>Medium</td>\n",
              "      <td>55</td>\n",
              "      <td>14</td>\n",
              "      <td>Yes</td>\n",
              "      <td>Yes</td>\n",
              "    </tr>\n",
              "    <tr>\n",
              "      <th>4</th>\n",
              "      <td>4.15</td>\n",
              "      <td>141</td>\n",
              "      <td>64</td>\n",
              "      <td>3</td>\n",
              "      <td>340</td>\n",
              "      <td>128</td>\n",
              "      <td>Bad</td>\n",
              "      <td>38</td>\n",
              "      <td>13</td>\n",
              "      <td>Yes</td>\n",
              "      <td>No</td>\n",
              "    </tr>\n",
              "    <tr>\n",
              "      <th>...</th>\n",
              "      <td>...</td>\n",
              "      <td>...</td>\n",
              "      <td>...</td>\n",
              "      <td>...</td>\n",
              "      <td>...</td>\n",
              "      <td>...</td>\n",
              "      <td>...</td>\n",
              "      <td>...</td>\n",
              "      <td>...</td>\n",
              "      <td>...</td>\n",
              "      <td>...</td>\n",
              "    </tr>\n",
              "    <tr>\n",
              "      <th>395</th>\n",
              "      <td>12.57</td>\n",
              "      <td>138</td>\n",
              "      <td>108</td>\n",
              "      <td>17</td>\n",
              "      <td>203</td>\n",
              "      <td>128</td>\n",
              "      <td>Good</td>\n",
              "      <td>33</td>\n",
              "      <td>14</td>\n",
              "      <td>Yes</td>\n",
              "      <td>Yes</td>\n",
              "    </tr>\n",
              "    <tr>\n",
              "      <th>396</th>\n",
              "      <td>6.14</td>\n",
              "      <td>139</td>\n",
              "      <td>23</td>\n",
              "      <td>3</td>\n",
              "      <td>37</td>\n",
              "      <td>120</td>\n",
              "      <td>Medium</td>\n",
              "      <td>55</td>\n",
              "      <td>11</td>\n",
              "      <td>No</td>\n",
              "      <td>Yes</td>\n",
              "    </tr>\n",
              "    <tr>\n",
              "      <th>397</th>\n",
              "      <td>7.41</td>\n",
              "      <td>162</td>\n",
              "      <td>26</td>\n",
              "      <td>12</td>\n",
              "      <td>368</td>\n",
              "      <td>159</td>\n",
              "      <td>Medium</td>\n",
              "      <td>40</td>\n",
              "      <td>18</td>\n",
              "      <td>Yes</td>\n",
              "      <td>Yes</td>\n",
              "    </tr>\n",
              "    <tr>\n",
              "      <th>398</th>\n",
              "      <td>5.94</td>\n",
              "      <td>100</td>\n",
              "      <td>79</td>\n",
              "      <td>7</td>\n",
              "      <td>284</td>\n",
              "      <td>95</td>\n",
              "      <td>Bad</td>\n",
              "      <td>50</td>\n",
              "      <td>12</td>\n",
              "      <td>Yes</td>\n",
              "      <td>Yes</td>\n",
              "    </tr>\n",
              "    <tr>\n",
              "      <th>399</th>\n",
              "      <td>9.71</td>\n",
              "      <td>134</td>\n",
              "      <td>37</td>\n",
              "      <td>0</td>\n",
              "      <td>27</td>\n",
              "      <td>120</td>\n",
              "      <td>Good</td>\n",
              "      <td>49</td>\n",
              "      <td>16</td>\n",
              "      <td>Yes</td>\n",
              "      <td>Yes</td>\n",
              "    </tr>\n",
              "  </tbody>\n",
              "</table>\n",
              "<p>400 rows × 11 columns</p>\n",
              "</div>"
            ],
            "text/plain": [
              "     Sales  CompPrice  Income  Advertising  ...  Age  Education Urban   US\n",
              "0     9.50        138      73           11  ...   42         17   Yes  Yes\n",
              "1    11.22        111      48           16  ...   65         10   Yes  Yes\n",
              "2    10.06        113      35           10  ...   59         12   Yes  Yes\n",
              "3     7.40        117     100            4  ...   55         14   Yes  Yes\n",
              "4     4.15        141      64            3  ...   38         13   Yes   No\n",
              "..     ...        ...     ...          ...  ...  ...        ...   ...  ...\n",
              "395  12.57        138     108           17  ...   33         14   Yes  Yes\n",
              "396   6.14        139      23            3  ...   55         11    No  Yes\n",
              "397   7.41        162      26           12  ...   40         18   Yes  Yes\n",
              "398   5.94        100      79            7  ...   50         12   Yes  Yes\n",
              "399   9.71        134      37            0  ...   49         16   Yes  Yes\n",
              "\n",
              "[400 rows x 11 columns]"
            ]
          },
          "metadata": {},
          "execution_count": 2
        }
      ],
      "source": [
        "df= pd.read_csv(\"/content/Company_Data.csv\")\n",
        "df"
      ]
    },
    {
      "cell_type": "code",
      "execution_count": 3,
      "metadata": {
        "colab": {
          "base_uri": "https://localhost:8080/",
          "height": 300
        },
        "id": "zj0ee6Wn1Pbe",
        "outputId": "d2e94624-f630-4119-ab04-390fadd638ca"
      },
      "outputs": [
        {
          "output_type": "execute_result",
          "data": {
            "text/html": [
              "<div>\n",
              "<style scoped>\n",
              "    .dataframe tbody tr th:only-of-type {\n",
              "        vertical-align: middle;\n",
              "    }\n",
              "\n",
              "    .dataframe tbody tr th {\n",
              "        vertical-align: top;\n",
              "    }\n",
              "\n",
              "    .dataframe thead th {\n",
              "        text-align: right;\n",
              "    }\n",
              "</style>\n",
              "<table border=\"1\" class=\"dataframe\">\n",
              "  <thead>\n",
              "    <tr style=\"text-align: right;\">\n",
              "      <th></th>\n",
              "      <th>Sales</th>\n",
              "      <th>CompPrice</th>\n",
              "      <th>Income</th>\n",
              "      <th>Advertising</th>\n",
              "      <th>Population</th>\n",
              "      <th>Price</th>\n",
              "      <th>Age</th>\n",
              "      <th>Education</th>\n",
              "    </tr>\n",
              "  </thead>\n",
              "  <tbody>\n",
              "    <tr>\n",
              "      <th>count</th>\n",
              "      <td>400.000000</td>\n",
              "      <td>400.000000</td>\n",
              "      <td>400.000000</td>\n",
              "      <td>400.000000</td>\n",
              "      <td>400.000000</td>\n",
              "      <td>400.000000</td>\n",
              "      <td>400.000000</td>\n",
              "      <td>400.000000</td>\n",
              "    </tr>\n",
              "    <tr>\n",
              "      <th>mean</th>\n",
              "      <td>7.496325</td>\n",
              "      <td>124.975000</td>\n",
              "      <td>68.657500</td>\n",
              "      <td>6.635000</td>\n",
              "      <td>264.840000</td>\n",
              "      <td>115.795000</td>\n",
              "      <td>53.322500</td>\n",
              "      <td>13.900000</td>\n",
              "    </tr>\n",
              "    <tr>\n",
              "      <th>std</th>\n",
              "      <td>2.824115</td>\n",
              "      <td>15.334512</td>\n",
              "      <td>27.986037</td>\n",
              "      <td>6.650364</td>\n",
              "      <td>147.376436</td>\n",
              "      <td>23.676664</td>\n",
              "      <td>16.200297</td>\n",
              "      <td>2.620528</td>\n",
              "    </tr>\n",
              "    <tr>\n",
              "      <th>min</th>\n",
              "      <td>0.000000</td>\n",
              "      <td>77.000000</td>\n",
              "      <td>21.000000</td>\n",
              "      <td>0.000000</td>\n",
              "      <td>10.000000</td>\n",
              "      <td>24.000000</td>\n",
              "      <td>25.000000</td>\n",
              "      <td>10.000000</td>\n",
              "    </tr>\n",
              "    <tr>\n",
              "      <th>25%</th>\n",
              "      <td>5.390000</td>\n",
              "      <td>115.000000</td>\n",
              "      <td>42.750000</td>\n",
              "      <td>0.000000</td>\n",
              "      <td>139.000000</td>\n",
              "      <td>100.000000</td>\n",
              "      <td>39.750000</td>\n",
              "      <td>12.000000</td>\n",
              "    </tr>\n",
              "    <tr>\n",
              "      <th>50%</th>\n",
              "      <td>7.490000</td>\n",
              "      <td>125.000000</td>\n",
              "      <td>69.000000</td>\n",
              "      <td>5.000000</td>\n",
              "      <td>272.000000</td>\n",
              "      <td>117.000000</td>\n",
              "      <td>54.500000</td>\n",
              "      <td>14.000000</td>\n",
              "    </tr>\n",
              "    <tr>\n",
              "      <th>75%</th>\n",
              "      <td>9.320000</td>\n",
              "      <td>135.000000</td>\n",
              "      <td>91.000000</td>\n",
              "      <td>12.000000</td>\n",
              "      <td>398.500000</td>\n",
              "      <td>131.000000</td>\n",
              "      <td>66.000000</td>\n",
              "      <td>16.000000</td>\n",
              "    </tr>\n",
              "    <tr>\n",
              "      <th>max</th>\n",
              "      <td>16.270000</td>\n",
              "      <td>175.000000</td>\n",
              "      <td>120.000000</td>\n",
              "      <td>29.000000</td>\n",
              "      <td>509.000000</td>\n",
              "      <td>191.000000</td>\n",
              "      <td>80.000000</td>\n",
              "      <td>18.000000</td>\n",
              "    </tr>\n",
              "  </tbody>\n",
              "</table>\n",
              "</div>"
            ],
            "text/plain": [
              "            Sales   CompPrice      Income  ...       Price         Age   Education\n",
              "count  400.000000  400.000000  400.000000  ...  400.000000  400.000000  400.000000\n",
              "mean     7.496325  124.975000   68.657500  ...  115.795000   53.322500   13.900000\n",
              "std      2.824115   15.334512   27.986037  ...   23.676664   16.200297    2.620528\n",
              "min      0.000000   77.000000   21.000000  ...   24.000000   25.000000   10.000000\n",
              "25%      5.390000  115.000000   42.750000  ...  100.000000   39.750000   12.000000\n",
              "50%      7.490000  125.000000   69.000000  ...  117.000000   54.500000   14.000000\n",
              "75%      9.320000  135.000000   91.000000  ...  131.000000   66.000000   16.000000\n",
              "max     16.270000  175.000000  120.000000  ...  191.000000   80.000000   18.000000\n",
              "\n",
              "[8 rows x 8 columns]"
            ]
          },
          "metadata": {},
          "execution_count": 3
        }
      ],
      "source": [
        "df.describe()"
      ]
    },
    {
      "cell_type": "code",
      "execution_count": 4,
      "metadata": {
        "colab": {
          "base_uri": "https://localhost:8080/"
        },
        "id": "EJhpttrq1Pbg",
        "outputId": "61416a83-0829-4279-bc3f-bf4b72626fe4"
      },
      "outputs": [
        {
          "output_type": "execute_result",
          "data": {
            "text/plain": [
              "Sales          0\n",
              "CompPrice      0\n",
              "Income         0\n",
              "Advertising    0\n",
              "Population     0\n",
              "Price          0\n",
              "ShelveLoc      0\n",
              "Age            0\n",
              "Education      0\n",
              "Urban          0\n",
              "US             0\n",
              "dtype: int64"
            ]
          },
          "metadata": {},
          "execution_count": 4
        }
      ],
      "source": [
        "df.isnull().sum()"
      ]
    },
    {
      "cell_type": "code",
      "execution_count": 5,
      "metadata": {
        "colab": {
          "base_uri": "https://localhost:8080/",
          "height": 351
        },
        "id": "DK34wWhy1Pbh",
        "outputId": "c24543b8-1f61-48ba-fae5-8f0897fbac14"
      },
      "outputs": [
        {
          "output_type": "stream",
          "name": "stderr",
          "text": [
            "/usr/local/lib/python3.7/dist-packages/seaborn/_decorators.py:43: FutureWarning: Pass the following variable as a keyword arg: x. From version 0.12, the only valid positional argument will be `data`, and passing other arguments without an explicit keyword will result in an error or misinterpretation.\n",
            "  FutureWarning\n"
          ]
        },
        {
          "output_type": "execute_result",
          "data": {
            "text/plain": [
              "<matplotlib.axes._subplots.AxesSubplot at 0x7f4e8a79bf10>"
            ]
          },
          "metadata": {},
          "execution_count": 5
        },
        {
          "output_type": "display_data",
          "data": {
            "image/png": "[encoded data removed]",
            "text/plain": [
              "<Figure size 432x288 with 1 Axes>"
            ]
          },
          "metadata": {
            "needs_background": "light"
          }
        }
      ],
      "source": [
        "sns.swarmplot(df[\"Sales\"])"
      ]
    },
    {
      "cell_type": "code",
      "execution_count": 6,
      "metadata": {
        "id": "fQZl1g6R1Pbi"
      },
      "outputs": [],
      "source": [
        "def split(num):\n",
        "    if num < 5:\n",
        "        return \"low sale\"\n",
        "    elif num>= 5 and num<10:\n",
        "        return \"average sale\"\n",
        "    else:\n",
        "        return \"high sale\"\n",
        "    \n",
        "df.Sales=df.Sales.apply(split)"
      ]
    },
    {
      "cell_type": "code",
      "execution_count": 7,
      "metadata": {
        "colab": {
          "base_uri": "https://localhost:8080/",
          "height": 334
        },
        "id": "3grCE7iK1Pbj",
        "outputId": "fb1c5118-5966-4905-ef3a-77610e3d8c7b"
      },
      "outputs": [
        {
          "output_type": "execute_result",
          "data": {
            "text/plain": [
              "<matplotlib.axes._subplots.AxesSubplot at 0x7f4e816bd3d0>"
            ]
          },
          "metadata": {},
          "execution_count": 7
        },
        {
          "output_type": "display_data",
          "data": {
            "image/png": "[encoded data removed]",
            "text/plain": [
              "<Figure size 432x288 with 2 Axes>"
            ]
          },
          "metadata": {
            "needs_background": "light"
          }
        }
      ],
      "source": [
        "corr=df.corr()\n",
        "sns.heatmap(corr,annot=True)"
      ]
    },
    {
      "cell_type": "code",
      "execution_count": 8,
      "metadata": {
        "colab": {
          "base_uri": "https://localhost:8080/",
          "height": 206
        },
        "id": "81fTzEGZ1Pbl",
        "outputId": "09203dd7-e820-484c-ba6a-a75b7a0b9857"
      },
      "outputs": [
        {
          "output_type": "execute_result",
          "data": {
            "text/html": [
              "<div>\n",
              "<style scoped>\n",
              "    .dataframe tbody tr th:only-of-type {\n",
              "        vertical-align: middle;\n",
              "    }\n",
              "\n",
              "    .dataframe tbody tr th {\n",
              "        vertical-align: top;\n",
              "    }\n",
              "\n",
              "    .dataframe thead th {\n",
              "        text-align: right;\n",
              "    }\n",
              "</style>\n",
              "<table border=\"1\" class=\"dataframe\">\n",
              "  <thead>\n",
              "    <tr style=\"text-align: right;\">\n",
              "      <th></th>\n",
              "      <th>Sales</th>\n",
              "      <th>CompPrice</th>\n",
              "      <th>Income</th>\n",
              "      <th>Advertising</th>\n",
              "      <th>Population</th>\n",
              "      <th>Price</th>\n",
              "      <th>ShelveLoc</th>\n",
              "      <th>Age</th>\n",
              "      <th>Education</th>\n",
              "      <th>Urban</th>\n",
              "      <th>US</th>\n",
              "    </tr>\n",
              "  </thead>\n",
              "  <tbody>\n",
              "    <tr>\n",
              "      <th>0</th>\n",
              "      <td>average sale</td>\n",
              "      <td>138</td>\n",
              "      <td>73</td>\n",
              "      <td>11</td>\n",
              "      <td>276</td>\n",
              "      <td>120</td>\n",
              "      <td>Bad</td>\n",
              "      <td>42</td>\n",
              "      <td>17</td>\n",
              "      <td>Yes</td>\n",
              "      <td>Yes</td>\n",
              "    </tr>\n",
              "    <tr>\n",
              "      <th>1</th>\n",
              "      <td>high sale</td>\n",
              "      <td>111</td>\n",
              "      <td>48</td>\n",
              "      <td>16</td>\n",
              "      <td>260</td>\n",
              "      <td>83</td>\n",
              "      <td>Good</td>\n",
              "      <td>65</td>\n",
              "      <td>10</td>\n",
              "      <td>Yes</td>\n",
              "      <td>Yes</td>\n",
              "    </tr>\n",
              "    <tr>\n",
              "      <th>2</th>\n",
              "      <td>high sale</td>\n",
              "      <td>113</td>\n",
              "      <td>35</td>\n",
              "      <td>10</td>\n",
              "      <td>269</td>\n",
              "      <td>80</td>\n",
              "      <td>Medium</td>\n",
              "      <td>59</td>\n",
              "      <td>12</td>\n",
              "      <td>Yes</td>\n",
              "      <td>Yes</td>\n",
              "    </tr>\n",
              "    <tr>\n",
              "      <th>3</th>\n",
              "      <td>average sale</td>\n",
              "      <td>117</td>\n",
              "      <td>100</td>\n",
              "      <td>4</td>\n",
              "      <td>466</td>\n",
              "      <td>97</td>\n",
              "      <td>Medium</td>\n",
              "      <td>55</td>\n",
              "      <td>14</td>\n",
              "      <td>Yes</td>\n",
              "      <td>Yes</td>\n",
              "    </tr>\n",
              "    <tr>\n",
              "      <th>4</th>\n",
              "      <td>low sale</td>\n",
              "      <td>141</td>\n",
              "      <td>64</td>\n",
              "      <td>3</td>\n",
              "      <td>340</td>\n",
              "      <td>128</td>\n",
              "      <td>Bad</td>\n",
              "      <td>38</td>\n",
              "      <td>13</td>\n",
              "      <td>Yes</td>\n",
              "      <td>No</td>\n",
              "    </tr>\n",
              "  </tbody>\n",
              "</table>\n",
              "</div>"
            ],
            "text/plain": [
              "          Sales  CompPrice  Income  Advertising  ...  Age  Education Urban   US\n",
              "0  average sale        138      73           11  ...   42         17   Yes  Yes\n",
              "1     high sale        111      48           16  ...   65         10   Yes  Yes\n",
              "2     high sale        113      35           10  ...   59         12   Yes  Yes\n",
              "3  average sale        117     100            4  ...   55         14   Yes  Yes\n",
              "4      low sale        141      64            3  ...   38         13   Yes   No\n",
              "\n",
              "[5 rows x 11 columns]"
            ]
          },
          "metadata": {},
          "execution_count": 8
        }
      ],
      "source": [
        "df.head()"
      ]
    },
    {
      "cell_type": "code",
      "execution_count": 9,
      "metadata": {
        "id": "lu_i6XA91Pbm"
      },
      "outputs": [],
      "source": [
        "from sklearn.preprocessing import LabelEncoder\n",
        "from sklearn.model_selection import train_test_split\n",
        "from sklearn.ensemble import RandomForestClassifier\n",
        "from sklearn.metrics import classification_report,confusion_matrix,accuracy_score"
      ]
    },
    {
      "cell_type": "code",
      "execution_count": 10,
      "metadata": {
        "id": "BYYe6XEx1Pbo"
      },
      "outputs": [],
      "source": [
        "le=LabelEncoder()"
      ]
    },
    {
      "cell_type": "code",
      "execution_count": 11,
      "metadata": {
        "id": "q3Mn8b-d1Pbp"
      },
      "outputs": [],
      "source": [
        "df[\"ShelveLoc\"]=le.fit_transform(df[\"ShelveLoc\"])\n",
        "df[\"Urban\"]=le.fit_transform(df[\"Urban\"])\n",
        "df[\"US\"]=le.fit_transform(df[\"US\"])"
      ]
    },
    {
      "cell_type": "code",
      "execution_count": 12,
      "metadata": {
        "id": "9I-w0g6w1Pbq"
      },
      "outputs": [],
      "source": [
        "x=df.iloc[:,1:11]\n",
        "y=df.iloc[:,0]"
      ]
    },
    {
      "cell_type": "code",
      "execution_count": 13,
      "metadata": {
        "id": "-LtbmSPn1Pbs"
      },
      "outputs": [],
      "source": [
        "x_train,x_test,y_train,y_test=train_test_split(x,y,test_size=0.2)"
      ]
    },
    {
      "cell_type": "code",
      "execution_count": 14,
      "metadata": {
        "colab": {
          "base_uri": "https://localhost:8080/"
        },
        "id": "jnjHbm2t1Pbu",
        "outputId": "94bb8385-dead-4606-98f0-9e48e86f5c20"
      },
      "outputs": [
        {
          "output_type": "stream",
          "name": "stderr",
          "text": [
            "/usr/local/lib/python3.7/dist-packages/sklearn/base.py:446: UserWarning: X does not have valid feature names, but RandomForestClassifier was fitted with feature names\n",
            "  \"X does not have valid feature names, but\"\n"
          ]
        },
        {
          "output_type": "execute_result",
          "data": {
            "text/plain": [
              "RandomForestClassifier(criterion='entropy', n_estimators=15, n_jobs=3,\n",
              "                       oob_score=True)"
            ]
          },
          "metadata": {},
          "execution_count": 14
        }
      ],
      "source": [
        "#RandomForest Classifier\n",
        "RF=RandomForestClassifier(n_jobs=3,oob_score=True,n_estimators=15,criterion=\"entropy\")\n",
        "RF.fit(x_train,y_train)"
      ]
    },
    {
      "cell_type": "code",
      "execution_count": 15,
      "metadata": {
        "colab": {
          "base_uri": "https://localhost:8080/"
        },
        "id": "TZjD3jPc1Pbv",
        "outputId": "4b34f202-8620-4c3b-f5a5-ea74ec6f4906"
      },
      "outputs": [
        {
          "output_type": "execute_result",
          "data": {
            "text/plain": [
              "array([[41,  4,  4],\n",
              "       [ 8,  9,  0],\n",
              "       [10,  0,  4]])"
            ]
          },
          "metadata": {},
          "execution_count": 15
        }
      ],
      "source": [
        "preds=RF.predict(x_test)\n",
        "confusion_matrix(y_test,preds)"
      ]
    },
    {
      "cell_type": "code",
      "execution_count": 16,
      "metadata": {
        "colab": {
          "base_uri": "https://localhost:8080/"
        },
        "id": "-0jwLVrU1Pbw",
        "outputId": "fef10810-ce2f-4974-e2c7-ac889fbc808f"
      },
      "outputs": [
        {
          "output_type": "execute_result",
          "data": {
            "text/plain": [
              "0.675"
            ]
          },
          "metadata": {},
          "execution_count": 16
        }
      ],
      "source": [
        "#Accuracy\n",
        "accuracy_score(y_test,preds)"
      ]
    },
    {
      "cell_type": "code",
      "execution_count": 17,
      "metadata": {
        "colab": {
          "base_uri": "https://localhost:8080/"
        },
        "id": "GpynaCHG1Pbw",
        "outputId": "0394d73d-6769-45a5-9d48-be4cb174ec78"
      },
      "outputs": [
        {
          "output_type": "execute_result",
          "data": {
            "text/plain": [
              "average sale    59\n",
              "high sale       13\n",
              "low sale         8\n",
              "dtype: int64"
            ]
          },
          "metadata": {},
          "execution_count": 17
        }
      ],
      "source": [
        "pd.Series(preds).value_counts()"
      ]
    },
    {
      "cell_type": "code",
      "execution_count": 18,
      "metadata": {
        "colab": {
          "base_uri": "https://localhost:8080/",
          "height": 423
        },
        "id": "-Moqlzox1Pby",
        "outputId": "1b39c2dd-1d88-464b-9ccf-7512bd5eb15d"
      },
      "outputs": [
        {
          "output_type": "execute_result",
          "data": {
            "text/html": [
              "<div>\n",
              "<style scoped>\n",
              "    .dataframe tbody tr th:only-of-type {\n",
              "        vertical-align: middle;\n",
              "    }\n",
              "\n",
              "    .dataframe tbody tr th {\n",
              "        vertical-align: top;\n",
              "    }\n",
              "\n",
              "    .dataframe thead th {\n",
              "        text-align: right;\n",
              "    }\n",
              "</style>\n",
              "<table border=\"1\" class=\"dataframe\">\n",
              "  <thead>\n",
              "    <tr style=\"text-align: right;\">\n",
              "      <th></th>\n",
              "      <th>actual</th>\n",
              "      <th>predicted</th>\n",
              "    </tr>\n",
              "  </thead>\n",
              "  <tbody>\n",
              "    <tr>\n",
              "      <th>174</th>\n",
              "      <td>low sale</td>\n",
              "      <td>low sale</td>\n",
              "    </tr>\n",
              "    <tr>\n",
              "      <th>24</th>\n",
              "      <td>high sale</td>\n",
              "      <td>average sale</td>\n",
              "    </tr>\n",
              "    <tr>\n",
              "      <th>118</th>\n",
              "      <td>average sale</td>\n",
              "      <td>average sale</td>\n",
              "    </tr>\n",
              "    <tr>\n",
              "      <th>383</th>\n",
              "      <td>average sale</td>\n",
              "      <td>high sale</td>\n",
              "    </tr>\n",
              "    <tr>\n",
              "      <th>274</th>\n",
              "      <td>average sale</td>\n",
              "      <td>average sale</td>\n",
              "    </tr>\n",
              "    <tr>\n",
              "      <th>...</th>\n",
              "      <td>...</td>\n",
              "      <td>...</td>\n",
              "    </tr>\n",
              "    <tr>\n",
              "      <th>281</th>\n",
              "      <td>high sale</td>\n",
              "      <td>high sale</td>\n",
              "    </tr>\n",
              "    <tr>\n",
              "      <th>389</th>\n",
              "      <td>average sale</td>\n",
              "      <td>average sale</td>\n",
              "    </tr>\n",
              "    <tr>\n",
              "      <th>316</th>\n",
              "      <td>high sale</td>\n",
              "      <td>high sale</td>\n",
              "    </tr>\n",
              "    <tr>\n",
              "      <th>379</th>\n",
              "      <td>average sale</td>\n",
              "      <td>average sale</td>\n",
              "    </tr>\n",
              "    <tr>\n",
              "      <th>168</th>\n",
              "      <td>average sale</td>\n",
              "      <td>average sale</td>\n",
              "    </tr>\n",
              "  </tbody>\n",
              "</table>\n",
              "<p>80 rows × 2 columns</p>\n",
              "</div>"
            ],
            "text/plain": [
              "           actual     predicted\n",
              "174      low sale      low sale\n",
              "24      high sale  average sale\n",
              "118  average sale  average sale\n",
              "383  average sale     high sale\n",
              "274  average sale  average sale\n",
              "..            ...           ...\n",
              "281     high sale     high sale\n",
              "389  average sale  average sale\n",
              "316     high sale     high sale\n",
              "379  average sale  average sale\n",
              "168  average sale  average sale\n",
              "\n",
              "[80 rows x 2 columns]"
            ]
          },
          "metadata": {},
          "execution_count": 18
        }
      ],
      "source": [
        "df=pd.DataFrame({\"actual\":y_test,\"predicted\":preds})\n",
        "df"
      ]
    },
    {
      "cell_type": "code",
      "execution_count": 19,
      "metadata": {
        "colab": {
          "base_uri": "https://localhost:8080/"
        },
        "id": "X8CIOrig1Pbz",
        "outputId": "4f64d553-0e90-47d1-cfbb-e7170ee5807a"
      },
      "outputs": [
        {
          "output_type": "stream",
          "name": "stdout",
          "text": [
            "              precision    recall  f1-score   support\n",
            "\n",
            "average sale       0.69      0.84      0.76        49\n",
            "   high sale       0.69      0.53      0.60        17\n",
            "    low sale       0.50      0.29      0.36        14\n",
            "\n",
            "    accuracy                           0.68        80\n",
            "   macro avg       0.63      0.55      0.57        80\n",
            "weighted avg       0.66      0.68      0.66        80\n",
            "\n"
          ]
        }
      ],
      "source": [
        "print(classification_report(y_test,preds))"
      ]
    }
  ],
  "metadata": {
    "interpreter": {
      "hash": "0284f1d342df9147d4cbffd8f79cfa06f82d29aa59de9b7d43fcc01469ad9886"
    },
    "kernelspec": {
      "display_name": "Python 3.8.8 64-bit ('base': conda)",
      "language": "python",
      "name": "python3"
    },
    "language_info": {
      "codemirror_mode": {
        "name": "ipython",
        "version": 3
      },
      "file_extension": ".py",
      "mimetype": "text/x-python",
      "name": "python",
      "nbconvert_exporter": "python",
      "pygments_lexer": "ipython3",
      "version": "3.8.8"
    },
    "orig_nbformat": 4,
    "colab": {
      "name": "Company_Data.ipynb",
      "provenance": [],
      "include_colab_link": true
    }
  },
  "nbformat": 4,
  "nbformat_minor": 0
}